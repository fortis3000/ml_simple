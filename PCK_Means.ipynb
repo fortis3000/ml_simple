{
  "nbformat": 4,
  "nbformat_minor": 0,
  "metadata": {
    "colab": {
      "name": "PCK-Means.ipynb",
      "version": "0.3.2",
      "provenance": []
    },
    "language_info": {
      "codemirror_mode": {
        "name": "ipython",
        "version": 3
      },
      "file_extension": ".py",
      "mimetype": "text/x-python",
      "name": "python",
      "nbconvert_exporter": "python",
      "pygments_lexer": "ipython3",
      "version": "3.7.0"
    },
    "kernelspec": {
      "display_name": "Python 3",
      "language": "python",
      "name": "python3"
    }
  },
  "cells": [
    {
      "cell_type": "markdown",
      "metadata": {
        "id": "K4u-byytOIV7",
        "colab_type": "text"
      },
      "source": [
        "## Constrained clustering. PCK-Means"
      ]
    },
    {
      "cell_type": "code",
      "metadata": {
        "id": "5XejoO9zOGu5",
        "colab_type": "code",
        "colab": {}
      },
      "source": [
        "import numpy as np\n",
        "import pandas as pd\n",
        "import matplotlib.pyplot as plt\n",
        "from numpy.random import randint, shuffle\n",
        "from sys import exit"
      ],
      "execution_count": 0,
      "outputs": []
    },
    {
      "cell_type": "markdown",
      "metadata": {
        "id": "pOxpnHFjAtJi",
        "colab_type": "text"
      },
      "source": [
        "## Initial data"
      ]
    },
    {
      "cell_type": "code",
      "metadata": {
        "id": "yON0pZspOGvB",
        "colab_type": "code",
        "colab": {}
      },
      "source": [
        "points = pd.DataFrame({\n",
        "    'x': [3,4,5,6,7,\n",
        "            4,5,6,7,\n",
        "            5,6,7,\n",
        "            6,7,\n",
        "            7,\n",
        "            1,\n",
        "            1,2,\n",
        "            1,2,3,\n",
        "            1,2,3,4,\n",
        "            1,2,3,4,5],\n",
        "    'y': [1,1,1,1,1,\n",
        "            2,2,2,2,\n",
        "            3,3,3,\n",
        "            4,4,\n",
        "            5,\n",
        "            2,\n",
        "            3,3,\n",
        "            4,4,4,\n",
        "            5,5,5,5,\n",
        "            6,6,6,6,6]\n",
        "})"
      ],
      "execution_count": 0,
      "outputs": []
    },
    {
      "cell_type": "markdown",
      "metadata": {
        "id": "TFpE4U3vBLtJ",
        "colab_type": "text"
      },
      "source": [
        "## Must and cannot links"
      ]
    },
    {
      "cell_type": "code",
      "metadata": {
        "id": "Z2QTFuRROGu-",
        "colab_type": "code",
        "colab": {}
      },
      "source": [
        "M = [\n",
        "    [[1,4], [1,6]],\n",
        "    [[1,4], [3,6]],\n",
        "    [[3,1], [5,3]],\n",
        "    [[5,3], [7,5]]\n",
        "]\n",
        "\n",
        "C = [\n",
        "    [[1,4], [3,1]],\n",
        "    [[5,3], [1,6]],\n",
        "    [[7,5], [3,6]]\n",
        "]"
      ],
      "execution_count": 0,
      "outputs": []
    },
    {
      "cell_type": "markdown",
      "metadata": {
        "id": "VcYPaS_ABTp6",
        "colab_type": "text"
      },
      "source": [
        "## Must and cannot matrices\n",
        "\n",
        "#### 1-s mean bounds between points"
      ]
    },
    {
      "cell_type": "code",
      "metadata": {
        "id": "olpeRKXNOGvE",
        "colab_type": "code",
        "colab": {}
      },
      "source": [
        "M_mat = np.zeros((len(points), len(points)), dtype=np.int8)\n",
        "for pair in M:\n",
        "    i1, i2 = -1, -1\n",
        "    for row, col in points.iterrows():\n",
        "        if col.x == pair[0][0] and col.y == pair[0][1]:\n",
        "            indx0 = row\n",
        "        if col.x == pair[1][0] and col.y == pair[1][1]:\n",
        "            indx1 = row\n",
        "        if i1 > -1 and i2 > -1:\n",
        "            break\n",
        "    M_mat[indx0, indx1] = 1\n",
        "    M_mat[indx1, indx0] = 1\n",
        "\n",
        "C_mat = np.zeros((len(points), len(points)), dtype=np.int8)\n",
        "for pair in C:\n",
        "    i1, i2 = -1, -1\n",
        "    for row, col in points.iterrows():\n",
        "        if col.x == pair[0][0] and col.y == pair[0][1]:\n",
        "            indx0 = row\n",
        "        if col.x == pair[1][0] and col.y == pair[1][1]:\n",
        "            indx1 = row\n",
        "        if i1 > -1 and i2 > -1:\n",
        "            break\n",
        "    C_mat[indx0, indx1] = 1\n",
        "    C_mat[indx1, indx0] = 1"
      ],
      "execution_count": 0,
      "outputs": []
    },
    {
      "cell_type": "code",
      "metadata": {
        "id": "3ewobgP0OIWT",
        "colab_type": "code",
        "colab": {
          "base_uri": "https://localhost:8080/",
          "height": 269
        },
        "outputId": "e150666e-f434-41e5-b9dc-0ca2f3cba67d"
      },
      "source": [
        "plt.scatter(points['x'], points['y'], c='k', marker='x');\n",
        "for pair in M:\n",
        "    plt.scatter([pair[0][0], pair[1][0]], [pair[0][1], pair[1][1]], c='green', marker = 'o', s=100);\n",
        "    plt.plot([pair[0][0], pair[1][0]], [pair[0][1], pair[1][1]], c='green');\n",
        "    \n",
        "for pair in C:\n",
        "    plt.scatter([pair[0][0], pair[1][0]], [pair[0][1], pair[1][1]], c='red', marker = 'o');\n",
        "    plt.plot([pair[0][0], pair[1][0]], [pair[0][1], pair[1][1]], c='red');"
      ],
      "execution_count": 5,
      "outputs": [
        {
          "output_type": "display_data",
          "data": {
            "image/png": "[encoded data removed]",
            "text/plain": [
              "<Figure size 432x288 with 1 Axes>"
            ]
          },
          "metadata": {
            "tags": []
          }
        }
      ]
    },
    {
      "cell_type": "markdown",
      "metadata": {
        "id": "28q2QYOVOIWX",
        "colab_type": "text"
      },
      "source": [
        "## PCK-means"
      ]
    },
    {
      "cell_type": "code",
      "metadata": {
        "id": "1smM8r7wOIWY",
        "colab_type": "code",
        "colab": {}
      },
      "source": [
        "M_mat_df = pd.DataFrame(M_mat)\n",
        "C_mat_df = pd.DataFrame(C_mat)"
      ],
      "execution_count": 0,
      "outputs": []
    },
    {
      "cell_type": "markdown",
      "metadata": {
        "id": "21kgrRguOIWc",
        "colab_type": "text"
      },
      "source": [
        "### Centers initialization (hardcode)"
      ]
    },
    {
      "cell_type": "code",
      "metadata": {
        "id": "txpkF-GuOIWd",
        "colab_type": "code",
        "colab": {}
      },
      "source": [
        "M_points_dict = {}\n",
        "points2 = []\n",
        "\n",
        "for pair in M:\n",
        "    if M.index(pair) == 0:\n",
        "        for point in pair:\n",
        "            M_points_dict[tuple(point)] = 0\n",
        "        continue\n",
        "    for point in pair:\n",
        "        if tuple(point) in list(M_points_dict.keys()):\n",
        "            for point2 in pair:\n",
        "                M_points_dict[tuple(point2)] = M_points_dict.get(tuple(point))\n",
        "        else:\n",
        "            M_points_dict[tuple(point)] = 1\n",
        "\n",
        "x0, y0, x1, y1 = [], [], [], []\n",
        "for key, val in M_points_dict.items():\n",
        "    if val == 0:\n",
        "        x0.append(key[0])\n",
        "        y0.append(key[1])\n",
        "    else:\n",
        "        x1.append(key[0])\n",
        "        y1.append(key[1])"
      ],
      "execution_count": 0,
      "outputs": []
    },
    {
      "cell_type": "markdown",
      "metadata": {
        "id": "5lAHE7nMQGhG",
        "colab_type": "text"
      },
      "source": [
        "### Parameters"
      ]
    },
    {
      "cell_type": "code",
      "metadata": {
        "id": "YKsK0ua7QF7s",
        "colab_type": "code",
        "colab": {
          "base_uri": "https://localhost:8080/",
          "height": 204
        },
        "outputId": "f0f2528c-71f5-4b60-ac35-7c669c1cd67b"
      },
      "source": [
        "k = 2\n",
        "c0 = [sum(x0)/len(x0), sum(y0)/len(y0)]\n",
        "c1 = [sum(x1)/len(x1), sum(y1)/len(y1)]\n",
        "w = 10\n",
        "\n",
        "dist_sum = 0\n",
        "\n",
        "\n",
        "# points processing order\n",
        "points_list = list(range(len(points.x)))\n",
        "shuffle(points_list)\n",
        "print(points_list)\n",
        "\n",
        "print('Check constraints')\n",
        "print('Must')\n",
        "for pair in M:\n",
        "    print(pair)\n",
        "print('Cannot')\n",
        "for pair in C:\n",
        "    print(pair)"
      ],
      "execution_count": 8,
      "outputs": [
        {
          "output_type": "stream",
          "text": [
            "[8, 28, 24, 14, 9, 19, 11, 2, 10, 27, 20, 22, 4, 25, 17, 5, 13, 16, 29, 3, 7, 21, 15, 12, 18, 0, 23, 6, 1, 26]\n",
            "Check constraints\n",
            "Must\n",
            "[[1, 4], [1, 6]]\n",
            "[[1, 4], [3, 6]]\n",
            "[[3, 1], [5, 3]]\n",
            "[[5, 3], [7, 5]]\n",
            "Cannot\n",
            "[[1, 4], [3, 1]]\n",
            "[[5, 3], [1, 6]]\n",
            "[[7, 5], [3, 6]]\n"
          ],
          "name": "stdout"
        }
      ]
    },
    {
      "cell_type": "code",
      "metadata": {
        "scrolled": false,
        "id": "l7uBUyTDOIWf",
        "colab_type": "code",
        "colab": {
          "base_uri": "https://localhost:8080/",
          "height": 2054
        },
        "outputId": "6493cafa-96a6-4d2d-9ffc-ecf80aa6ea67"
      },
      "source": [
        "# converging\n",
        "iteration = 1\n",
        "J=0\n",
        "while True:\n",
        "    print('_______________________')\n",
        "    print()\n",
        "    print(\"Center 0:\", list(map(lambda x: round(x, 3), c0)), '\\n'\n",
        "          \"Center 1:\", list(map(lambda x: round(x, 3), c1)))\n",
        "    \n",
        "    #all distances\n",
        "    points['dist0'] = list(map(lambda x,y: ((c0[0]-x)**2 + (c0[1]-y)**2)**0.5, points.x, points.y))\n",
        "    points['dist1'] = list(map(lambda x,y: ((c1[0]-x)**2 + (c1[1]-y)**2)**0.5, points.x, points.y))\n",
        "    \n",
        "    labels = {}\n",
        "    points_seen = []\n",
        "    J_new = 0\n",
        "    for i in points_list: # loop for all points\n",
        "        M_indx = [] # must points\n",
        "        C_indx = [] # cannot points\n",
        "        J_temp = 0\n",
        "        \n",
        "        if (sum(M_mat_df[i].iloc[points_seen]) == 0) & (sum(C_mat_df[i].iloc[points_seen]) == 0) or (len(points_seen) == 0): #for first and unconstrained points\n",
        "            lbl_temp = 0 if points.iloc[i].dist0 < points.iloc[i].dist1 else 1\n",
        "            J_temp = (points.iloc[i].dist0 if points.iloc[i].dist0 < points.iloc[i].dist1 else points.iloc[i].dist1)\n",
        "            \n",
        "        elif (sum(M_mat_df[i].iloc[points_seen]) > 0) & (sum(C_mat_df[i].iloc[points_seen]) > 0): # the point has both constraints\n",
        "            M_indx = list(M_mat_df[i].iloc[points_seen][M_mat_df[i].iloc[points_seen] > 0].keys())\n",
        "            M_labels = [labels.get(indx) for indx in M_indx]\n",
        "            C_indx = list(C_mat_df[i].iloc[points_seen][C_mat_df[i].iloc[points_seen] > 0].keys())\n",
        "            C_labels = [labels.get(indx) for indx in C_indx]\n",
        "            \n",
        "            M_bool = 1 if sum(M_mat_df[i].iloc[points_seen]) else 0\n",
        "            C_bool = 1 if sum(C_mat_df[i].iloc[points_seen]) > 0 else 0\n",
        "            \n",
        "            # w coefficients are equal for both classes, omitted\n",
        "            J0 = J_new + (points.iloc[i].dist0)\n",
        "            J1 = J_new + (points.iloc[i].dist1)\n",
        "                \n",
        "            J_temp = points.iloc[i].dist0 if J0 < J1 else points.iloc[i].dist1\n",
        "            lbl_temp = 0 if J0 < J1 else 1\n",
        "            \n",
        "        elif sum(M_mat_df[i].iloc[points_seen]) > 0: # must constraint only\n",
        "            M_indx = list(M_mat_df[i].iloc[points_seen][M_mat_df[i].iloc[points_seen] > 0].keys())\n",
        "            \n",
        "            # booleans could be omitted because of if condition \n",
        "            M_bool = 1 if sum(M_mat_df[i].iloc[points_seen]) > 0 else 0\n",
        "            C_bool = 0\n",
        "            if labels[M_indx[0]] == 0:\n",
        "                J0 = J_new + (points.iloc[i].dist0)\n",
        "                J1 = J_new + (points.iloc[i].dist1) + w*M_bool\n",
        "            else:\n",
        "                J0 = J_new + (points.iloc[i].dist0) + w*M_bool\n",
        "                J1 = J_new + (points.iloc[i].dist1)\n",
        "            \n",
        "            J_temp = points.iloc[i].dist0 if J0 < J1 else points.iloc[i].dist1\n",
        "            lbl_temp = 0 if J0 < J1 else 1\n",
        "            \n",
        "        else: # cannot constraint only\n",
        "            C_indx = list(C_mat_df[i].iloc[points_seen][C_mat_df[i].iloc[points_seen] > 0].keys())\n",
        "            \n",
        "            # booleans could be omitted because of if condition \n",
        "            M_bool = 0\n",
        "            C_bool = 1 if sum(C_mat_df[i].iloc[points_seen]) > 0 else 0\n",
        "            if labels[C_indx[0]] == 0:\n",
        "                J0 = J_new + (points.iloc[i].dist0) + w*C_bool\n",
        "                J1 = J_new + (points.iloc[i].dist1)\n",
        "            else:\n",
        "                J0 = J_new + (points.iloc[i].dist0)\n",
        "                J1 = J_new + (points.iloc[i].dist1) + w*C_bool\n",
        "                \n",
        "            J_temp = points.iloc[i].dist0 if J0 < J1 else points.iloc[i].dist1\n",
        "            lbl_temp = 0 if J0 < J1 else 1\n",
        "\n",
        "        # marking and remembering the point\n",
        "        labels[i] = lbl_temp\n",
        "        points_seen.append(i)\n",
        "        J_new += 0.5*J_temp**2\n",
        "        \n",
        "    # sorting labels ascending\n",
        "    new_lbls = []\n",
        "    for p in range(len(labels)):\n",
        "        new_lbls.append(labels.get(p))\n",
        "    points['lbl'] = new_lbls\n",
        "    \n",
        "    #plotting current clustering\n",
        "    plt.figure(figsize=(5,5))\n",
        "    plt.scatter(points['x'], points['y'], c=list(points['lbl']));\n",
        "    plt.scatter([c0[0], c1[0]], [c0[1], c1[1]], c='r', marker='x', s=70);\n",
        "    plt.title(\"Iteration \" + str(iteration))\n",
        "    plt.pause(0.05);\n",
        "    \n",
        "    if iteration == 20:\n",
        "        break\n",
        "        \n",
        "    if abs(J - J_new)  < 0.01:\n",
        "        print(round(J_new,3))\n",
        "        print('Converge!')\n",
        "        break\n",
        "    else:\n",
        "        c0 = [sum(points.x[points.lbl == 0])/len(points.x[points.lbl == 0]),\n",
        "              sum(points.y[points.lbl == 0])/len(points.y[points.lbl == 0])]\n",
        "        c1 = [sum(points.x[points.lbl == 1])/len(points.x[points.lbl == 1]),\n",
        "              sum(points.y[points.lbl == 1])/len(points.y[points.lbl == 1])]\n",
        "        iteration+=1\n",
        "        J = J_new\n",
        "        print(\"Distance sum = \", round(J_new,3))\n",
        "plt.show()"
      ],
      "execution_count": 9,
      "outputs": [
        {
          "output_type": "stream",
          "text": [
            "_______________________\n",
            "\n",
            "Center 0: [1.667, 5.333] \n",
            "Center 1: [5.0, 3.0]\n"
          ],
          "name": "stdout"
        },
        {
          "output_type": "display_data",
          "data": {
            "image/png": "[encoded data removed]",
            "text/plain": [
              "<Figure size 360x360 with 1 Axes>"
            ]
          },
          "metadata": {
            "tags": []
          }
        },
        {
          "output_type": "stream",
          "text": [
            "Distance sum =  58.444\n",
            "_______________________\n",
            "\n",
            "Center 0: [2.0, 4.538] \n",
            "Center 1: [5.529, 2.706]\n"
          ],
          "name": "stdout"
        },
        {
          "output_type": "display_data",
          "data": {
            "image/png": "[encoded data removed]",
            "text/plain": [
              "<Figure size 360x360 with 1 Axes>"
            ]
          },
          "metadata": {
            "tags": []
          }
        },
        {
          "output_type": "stream",
          "text": [
            "Distance sum =  48.803\n",
            "_______________________\n",
            "\n",
            "Center 0: [2.143, 4.571] \n",
            "Center 1: [5.625, 2.562]\n"
          ],
          "name": "stdout"
        },
        {
          "output_type": "display_data",
          "data": {
            "image/png": "[encoded data removed]",
            "text/plain": [
              "<Figure size 360x360 with 1 Axes>"
            ]
          },
          "metadata": {
            "tags": []
          }
        },
        {
          "output_type": "stream",
          "text": [
            "Distance sum =  47.414\n",
            "_______________________\n",
            "\n",
            "Center 0: [2.333, 4.667] \n",
            "Center 1: [5.667, 2.333]\n"
          ],
          "name": "stdout"
        },
        {
          "output_type": "display_data",
          "data": {
            "image/png": "[encoded data removed]",
            "text/plain": [
              "<Figure size 360x360 with 1 Axes>"
            ]
          },
          "metadata": {
            "tags": []
          }
        },
        {
          "output_type": "stream",
          "text": [
            "Distance sum =  46.667\n",
            "_______________________\n",
            "\n",
            "Center 0: [2.333, 4.667] \n",
            "Center 1: [5.667, 2.333]\n"
          ],
          "name": "stdout"
        },
        {
          "output_type": "display_data",
          "data": {
            "image/png": "[encoded data removed]",
            "text/plain": [
              "<Figure size 360x360 with 1 Axes>"
            ]
          },
          "metadata": {
            "tags": []
          }
        },
        {
          "output_type": "stream",
          "text": [
            "46.667\n",
            "Converge!\n"
          ],
          "name": "stdout"
        }
      ]
    },
    {
      "cell_type": "markdown",
      "metadata": {
        "id": "lgX10X13RlOi",
        "colab_type": "text"
      },
      "source": [
        "### Points in order occured"
      ]
    },
    {
      "cell_type": "code",
      "metadata": {
        "id": "7a6iA7XeOIWi",
        "colab_type": "code",
        "colab": {
          "base_uri": "https://localhost:8080/",
          "height": 34
        },
        "outputId": "4a0541f9-12df-4c43-c063-19462a2c802e"
      },
      "source": [
        "print(points_seen)"
      ],
      "execution_count": 10,
      "outputs": [
        {
          "output_type": "stream",
          "text": [
            "[8, 28, 24, 14, 9, 19, 11, 2, 10, 27, 20, 22, 4, 25, 17, 5, 13, 16, 29, 3, 7, 21, 15, 12, 18, 0, 23, 6, 1, 26]\n"
          ],
          "name": "stdout"
        }
      ]
    }
  ]
}