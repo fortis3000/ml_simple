{
  "nbformat": 4,
  "nbformat_minor": 0,
  "metadata": {
    "colab": {
      "name": "practical_assignment_4.ipynb",
      "version": "0.3.2",
      "provenance": []
    },
    "language_info": {
      "codemirror_mode": {
        "name": "ipython",
        "version": 3
      },
      "file_extension": ".py",
      "mimetype": "text/x-python",
      "name": "python",
      "nbconvert_exporter": "python",
      "pygments_lexer": "ipython3",
      "version": "3.7.0"
    },
    "kernelspec": {
      "display_name": "Python 3",
      "language": "python",
      "name": "python3"
    }
  },
  "cells": [
    {
      "cell_type": "markdown",
      "metadata": {
        "colab_type": "text",
        "id": "lVrD1a2WzwTY"
      },
      "source": [
        "## Constrained clustering. Expectation Maximization Algorithm."
      ]
    },
    {
      "cell_type": "code",
      "metadata": {
        "id": "FWjY3zUpsYhV",
        "colab_type": "code",
        "colab": {}
      },
      "source": [
        "import numpy as np\n",
        "import pandas as pd\n",
        "import matplotlib.pyplot as plt\n",
        "import seaborn as sns\n",
        "\n",
        "sns.set(rc={'figure.figsize':(8,4)})"
      ],
      "execution_count": 0,
      "outputs": []
    },
    {
      "cell_type": "markdown",
      "metadata": {
        "id": "bwO2EQl-wsdr",
        "colab_type": "text"
      },
      "source": [
        "## Initial data"
      ]
    },
    {
      "cell_type": "code",
      "metadata": {
        "id": "EOp_3rWKsYhX",
        "colab_type": "code",
        "colab": {
          "base_uri": "https://localhost:8080/",
          "height": 359
        },
        "outputId": "09f1bd8c-a22d-4194-8d06-0254765b01f4"
      },
      "source": [
        "points = pd.DataFrame({\n",
        "    'x': [-3.5, -2.8, -2, -3, -1.2, 1, 2.5, 3, 3, 3.5],\n",
        "    'y': [0.5, 0.4, 0, -.5, -0.5, 0.8, 1.2, 1.4, 1.3, -.5],\n",
        "    'target': [1, 1, 1, 1, 1, 0, 0, 0, 0, 0]\n",
        "})\n",
        "points"
      ],
      "execution_count": 2,
      "outputs": [
        {
          "output_type": "execute_result",
          "data": {
            "text/html": [
              "<div>\n",
              "<style scoped>\n",
              "    .dataframe tbody tr th:only-of-type {\n",
              "        vertical-align: middle;\n",
              "    }\n",
              "\n",
              "    .dataframe tbody tr th {\n",
              "        vertical-align: top;\n",
              "    }\n",
              "\n",
              "    .dataframe thead th {\n",
              "        text-align: right;\n",
              "    }\n",
              "</style>\n",
              "<table border=\"1\" class=\"dataframe\">\n",
              "  <thead>\n",
              "    <tr style=\"text-align: right;\">\n",
              "      <th></th>\n",
              "      <th>x</th>\n",
              "      <th>y</th>\n",
              "      <th>target</th>\n",
              "    </tr>\n",
              "  </thead>\n",
              "  <tbody>\n",
              "    <tr>\n",
              "      <th>0</th>\n",
              "      <td>-3.5</td>\n",
              "      <td>0.5</td>\n",
              "      <td>1</td>\n",
              "    </tr>\n",
              "    <tr>\n",
              "      <th>1</th>\n",
              "      <td>-2.8</td>\n",
              "      <td>0.4</td>\n",
              "      <td>1</td>\n",
              "    </tr>\n",
              "    <tr>\n",
              "      <th>2</th>\n",
              "      <td>-2.0</td>\n",
              "      <td>0.0</td>\n",
              "      <td>1</td>\n",
              "    </tr>\n",
              "    <tr>\n",
              "      <th>3</th>\n",
              "      <td>-3.0</td>\n",
              "      <td>-0.5</td>\n",
              "      <td>1</td>\n",
              "    </tr>\n",
              "    <tr>\n",
              "      <th>4</th>\n",
              "      <td>-1.2</td>\n",
              "      <td>-0.5</td>\n",
              "      <td>1</td>\n",
              "    </tr>\n",
              "    <tr>\n",
              "      <th>5</th>\n",
              "      <td>1.0</td>\n",
              "      <td>0.8</td>\n",
              "      <td>0</td>\n",
              "    </tr>\n",
              "    <tr>\n",
              "      <th>6</th>\n",
              "      <td>2.5</td>\n",
              "      <td>1.2</td>\n",
              "      <td>0</td>\n",
              "    </tr>\n",
              "    <tr>\n",
              "      <th>7</th>\n",
              "      <td>3.0</td>\n",
              "      <td>1.4</td>\n",
              "      <td>0</td>\n",
              "    </tr>\n",
              "    <tr>\n",
              "      <th>8</th>\n",
              "      <td>3.0</td>\n",
              "      <td>1.3</td>\n",
              "      <td>0</td>\n",
              "    </tr>\n",
              "    <tr>\n",
              "      <th>9</th>\n",
              "      <td>3.5</td>\n",
              "      <td>-0.5</td>\n",
              "      <td>0</td>\n",
              "    </tr>\n",
              "  </tbody>\n",
              "</table>\n",
              "</div>"
            ],
            "text/plain": [
              "     x    y  target\n",
              "0 -3.5  0.5       1\n",
              "1 -2.8  0.4       1\n",
              "2 -2.0  0.0       1\n",
              "3 -3.0 -0.5       1\n",
              "4 -1.2 -0.5       1\n",
              "5  1.0  0.8       0\n",
              "6  2.5  1.2       0\n",
              "7  3.0  1.4       0\n",
              "8  3.0  1.3       0\n",
              "9  3.5 -0.5       0"
            ]
          },
          "metadata": {
            "tags": []
          },
          "execution_count": 2
        }
      ]
    },
    {
      "cell_type": "code",
      "metadata": {
        "scrolled": true,
        "id": "kM7RhzIMsYha",
        "colab_type": "code",
        "colab": {
          "base_uri": "https://localhost:8080/",
          "height": 291
        },
        "outputId": "f17775e9-517c-4c86-b9e4-99ecc4e47cb4"
      },
      "source": [
        "a = points.plot.scatter('x', 'y', c=points['target'].map({1: 'red', 0: 'blue'}))"
      ],
      "execution_count": 3,
      "outputs": [
        {
          "output_type": "display_data",
          "data": {
            "image/png": "[encoded data removed]",
            "text/plain": [
              "<Figure size 576x288 with 1 Axes>"
            ]
          },
          "metadata": {
            "tags": []
          }
        }
      ]
    },
    {
      "cell_type": "markdown",
      "metadata": {
        "id": "q7pKgT83wxtL",
        "colab_type": "text"
      },
      "source": [
        "## Means, MSEs, Covariance matrices"
      ]
    },
    {
      "cell_type": "code",
      "metadata": {
        "id": "OfPNjTDvsYhd",
        "colab_type": "code",
        "colab": {}
      },
      "source": [
        "# mean vector for 1-class\n",
        "mv1 = [points.x[points['target'] == 1].mean(), points.y[points['target'] == 1].mean()]\n",
        "\n",
        "# mean vector for 0-class\n",
        "mv0 = [points.x[points['target'] == 0].mean(), points.y[points['target'] == 0].mean()]"
      ],
      "execution_count": 0,
      "outputs": []
    },
    {
      "cell_type": "code",
      "metadata": {
        "id": "OKKTdL9WsYhe",
        "colab_type": "code",
        "colab": {}
      },
      "source": [
        "# MSE for 1-class\n",
        "mse_x1 = sum(list(map(lambda x: (x-mv1[0])**2, points.x[points['target'] == 1]))) \\\n",
        "        /len(list(map(lambda x: (x-mv1[0])**2, points.x[points['target'] == 1])))\n",
        "mse_y1 = sum(list(map(lambda y: (y-mv1[1])**2, points.y[points['target'] == 1]))) \\\n",
        "        /len(list(map(lambda y: (y-mv1[1])**2, points.y[points['target'] == 1])))\n",
        "\n",
        "# MSE for 0-class\n",
        "mse_x0 = sum(list(map(lambda x: (x-mv0[0])**2, points.x[points['target'] == 0]))) \\\n",
        "    /len(list(map(lambda x: (x-mv0[0])**2, points.x[points['target'] == 0])))\n",
        "mse_y0 = sum(list(map(lambda y: (y-mv0[1])**2, points.y[points['target'] == 0]))) \\\n",
        "    /len(list(map(lambda y: (y-mv0[1])**2, points.y[points['target'] == 0])))"
      ],
      "execution_count": 0,
      "outputs": []
    },
    {
      "cell_type": "code",
      "metadata": {
        "id": "BXA6-aaMsYhf",
        "colab_type": "code",
        "colab": {}
      },
      "source": [
        "# covariance matrix for 1-class\n",
        "mcov1 = np.matrix([\n",
        "    [mse_x1, mse_y1*mse_x1],\n",
        "    [mse_x1*mse_y1, mse_y1]\n",
        "])\n",
        "\n",
        "# covariance matrix for 0-class\n",
        "mcov0 = np.matrix([\n",
        "    [mse_x0**1, mse_y0*mse_x0],\n",
        "    [mse_x0*mse_y0, mse_y0**1]\n",
        "])"
      ],
      "execution_count": 0,
      "outputs": []
    },
    {
      "cell_type": "markdown",
      "metadata": {
        "id": "0jJ2TnkQw6Qw",
        "colab_type": "text"
      },
      "source": [
        "## Computing probability"
      ]
    },
    {
      "cell_type": "code",
      "metadata": {
        "id": "eKDWL02LsYhh",
        "colab_type": "code",
        "colab": {}
      },
      "source": [
        "def p_eval(mcov, mv, v):\n",
        "    '''\n",
        "    mcov: covariance matrix, np.matrix\n",
        "    mv: mean vector, list\n",
        "    v: point vector, list\n",
        "    '''\n",
        "    dim = 2\n",
        "    det_mcov = float(np.linalg.det(mcov))\n",
        "    mcov_inv = np.linalg.inv(mcov)\n",
        "    x_mu = lambda x, mu: x - mu\n",
        "    x_mu_t = lambda x, mu: (x - mu).T\n",
        "\n",
        "    return (round((1/((2*round(np.pi,2)**(dim//2))*(det_mcov**0.5))) \\\n",
        "                                *np.exp(-0.5*x_mu_t(np.matrix(v).T,np.matrix(mv).T)\\\n",
        "                                        *mcov_inv \\\n",
        "                                        *x_mu(np.matrix(v).T,np.matrix(mv).T))[0,0],3))"
      ],
      "execution_count": 0,
      "outputs": []
    },
    {
      "cell_type": "code",
      "metadata": {
        "id": "zwioiTr0sYhi",
        "colab_type": "code",
        "colab": {
          "base_uri": "https://localhost:8080/",
          "height": 255
        },
        "outputId": "d8a51885-ae02-4f88-dcf2-985d56e657a1"
      },
      "source": [
        "# evaluating p for labelled points\n",
        "for mcov, mv, b in [[mcov1, mv1, 1], [mcov0, mv0, 0]]:\n",
        "    print()\n",
        "    print('class',b)\n",
        "    for row, col in points[points['target'] == b].iterrows():\n",
        "        print(row, ':',p_eval(mcov, mv, [col.x, col.y]))"
      ],
      "execution_count": 8,
      "outputs": [
        {
          "output_type": "stream",
          "text": [
            "\n",
            "class 1\n",
            "0 : 0.049\n",
            "1 : 0.227\n",
            "2 : 0.4\n",
            "3 : 0.253\n",
            "4 : 0.027\n",
            "\n",
            "class 0\n",
            "5 : 0.024\n",
            "6 : 0.252\n",
            "7 : 0.24\n",
            "8 : 0.266\n",
            "9 : 0.001\n"
          ],
          "name": "stdout"
        }
      ]
    },
    {
      "cell_type": "markdown",
      "metadata": {
        "colab_type": "text",
        "id": "C3U5tLImzm2p"
      },
      "source": [
        "## K-Means clustering"
      ]
    },
    {
      "cell_type": "code",
      "metadata": {
        "id": "qtkyhomrsYhk",
        "colab_type": "code",
        "colab": {
          "base_uri": "https://localhost:8080/",
          "height": 170
        },
        "outputId": "47fbd3b9-9edf-4226-c056-f071d7523c97"
      },
      "source": [
        "# initial values for k-means\n",
        "k = 2\n",
        "mv_kmeans0 = [0,1]\n",
        "mv_kmeans1 = [0,0]\n",
        "J = 0\n",
        "\n",
        "while True:\n",
        "    dist_0 = pd.Series(list(map(lambda x,y: ((x - mv_kmeans0[0])**2 + (y - mv_kmeans0[1])**2)**0.5, points['x'], points['y'])))\n",
        "    dist_1 = pd.Series(list(map(lambda x,y: ((x - mv_kmeans1[0])**2 + (y - mv_kmeans1[1])**2)**0.5, points['x'], points['y'])))\n",
        "    \n",
        "    points['class'] = list(map(\n",
        "        lambda d0, d1: 0 if d0 < d1 else 1, dist_0, dist_1))\n",
        "    \n",
        "    mv_kmeans1 = [points['x'][points['class'] == 1].sum() / len(points['x'][points['class'] == 1]),\n",
        "                  points['y'][points['class'] == 1].sum() / len(points['y'][points['class'] == 1])]\n",
        "    mv_kmeans0 = [points['x'][points['class'] == 0].sum() / len(points['x'][points['class'] == 0]),\n",
        "                  points['y'][points['class'] == 0].sum() / len(points['y'][points['class'] == 0])]\n",
        "    \n",
        "    \n",
        "    J_new = sum(list(map(lambda x, y: min(x**2, y**2),\n",
        "                         dist_0,\n",
        "                         dist_1)))\n",
        "    print(\"J = \", round(J_new,3))\n",
        "    if abs(J - J_new) < 0.01:\n",
        "        print(\"Converge!\")\n",
        "        print()\n",
        "        print(\"Final centroids: \")\n",
        "        print('Class 0: ', list(map(lambda x: round(x,2), mv_kmeans0)))\n",
        "        print('Class 1: ', list(map(lambda x: round(x,2), mv_kmeans1)))\n",
        "        break\n",
        "    else:\n",
        "        J = J_new"
      ],
      "execution_count": 9,
      "outputs": [
        {
          "output_type": "stream",
          "text": [
            "J =  73.52\n",
            "J =  16.186\n",
            "J =  10.34\n",
            "J =  10.34\n",
            "Converge!\n",
            "\n",
            "Final centroids: \n",
            "Class 0:  [2.6, 0.84]\n",
            "Class 1:  [-2.5, -0.02]\n"
          ],
          "name": "stdout"
        }
      ]
    },
    {
      "cell_type": "markdown",
      "metadata": {
        "colab_type": "text",
        "id": "CnHqTltmzmVZ"
      },
      "source": [
        "## Add two more points\n",
        "\n",
        "#### Recalculate parameters once new point occurs\n"
      ]
    },
    {
      "cell_type": "code",
      "metadata": {
        "colab_type": "code",
        "id": "HpYhMwSTzlpZ",
        "colab": {}
      },
      "source": [
        "test_point1 = [-2, -1.5]\n",
        "test_point2 = [3.2, 0]"
      ],
      "execution_count": 0,
      "outputs": []
    },
    {
      "cell_type": "code",
      "metadata": {
        "colab_type": "code",
        "id": "m45Gp9Pdzkti",
        "colab": {}
      },
      "source": [
        "points_1 = points[['x','y','target']].copy()"
      ],
      "execution_count": 0,
      "outputs": []
    },
    {
      "cell_type": "markdown",
      "metadata": {
        "id": "eeIVVBMIsYhq",
        "colab_type": "text"
      },
      "source": [
        "### Add 11th point"
      ]
    },
    {
      "cell_type": "code",
      "metadata": {
        "id": "DncaKViUsYhq",
        "colab_type": "code",
        "colab": {
          "base_uri": "https://localhost:8080/",
          "height": 390
        },
        "outputId": "236cf3d2-21c3-4b08-dfbb-02ef7375ac68"
      },
      "source": [
        "points_1 = points_1.append(pd.DataFrame({\n",
        "    'x': [test_point1[0]],\n",
        "    'y': [test_point1[1]],\n",
        "    'target': [0 if p_eval(mcov=mcov0, mv=mv0, v=test_point1) > p_eval(mcov=mcov1, mv=mv1, v=test_point1) else 1]\n",
        "    }, index=[max(points_1.index)+1])\n",
        ")\n",
        "points_1"
      ],
      "execution_count": 12,
      "outputs": [
        {
          "output_type": "execute_result",
          "data": {
            "text/html": [
              "<div>\n",
              "<style scoped>\n",
              "    .dataframe tbody tr th:only-of-type {\n",
              "        vertical-align: middle;\n",
              "    }\n",
              "\n",
              "    .dataframe tbody tr th {\n",
              "        vertical-align: top;\n",
              "    }\n",
              "\n",
              "    .dataframe thead th {\n",
              "        text-align: right;\n",
              "    }\n",
              "</style>\n",
              "<table border=\"1\" class=\"dataframe\">\n",
              "  <thead>\n",
              "    <tr style=\"text-align: right;\">\n",
              "      <th></th>\n",
              "      <th>x</th>\n",
              "      <th>y</th>\n",
              "      <th>target</th>\n",
              "    </tr>\n",
              "  </thead>\n",
              "  <tbody>\n",
              "    <tr>\n",
              "      <th>0</th>\n",
              "      <td>-3.5</td>\n",
              "      <td>0.5</td>\n",
              "      <td>1</td>\n",
              "    </tr>\n",
              "    <tr>\n",
              "      <th>1</th>\n",
              "      <td>-2.8</td>\n",
              "      <td>0.4</td>\n",
              "      <td>1</td>\n",
              "    </tr>\n",
              "    <tr>\n",
              "      <th>2</th>\n",
              "      <td>-2.0</td>\n",
              "      <td>0.0</td>\n",
              "      <td>1</td>\n",
              "    </tr>\n",
              "    <tr>\n",
              "      <th>3</th>\n",
              "      <td>-3.0</td>\n",
              "      <td>-0.5</td>\n",
              "      <td>1</td>\n",
              "    </tr>\n",
              "    <tr>\n",
              "      <th>4</th>\n",
              "      <td>-1.2</td>\n",
              "      <td>-0.5</td>\n",
              "      <td>1</td>\n",
              "    </tr>\n",
              "    <tr>\n",
              "      <th>5</th>\n",
              "      <td>1.0</td>\n",
              "      <td>0.8</td>\n",
              "      <td>0</td>\n",
              "    </tr>\n",
              "    <tr>\n",
              "      <th>6</th>\n",
              "      <td>2.5</td>\n",
              "      <td>1.2</td>\n",
              "      <td>0</td>\n",
              "    </tr>\n",
              "    <tr>\n",
              "      <th>7</th>\n",
              "      <td>3.0</td>\n",
              "      <td>1.4</td>\n",
              "      <td>0</td>\n",
              "    </tr>\n",
              "    <tr>\n",
              "      <th>8</th>\n",
              "      <td>3.0</td>\n",
              "      <td>1.3</td>\n",
              "      <td>0</td>\n",
              "    </tr>\n",
              "    <tr>\n",
              "      <th>9</th>\n",
              "      <td>3.5</td>\n",
              "      <td>-0.5</td>\n",
              "      <td>0</td>\n",
              "    </tr>\n",
              "    <tr>\n",
              "      <th>10</th>\n",
              "      <td>-2.0</td>\n",
              "      <td>-1.5</td>\n",
              "      <td>1</td>\n",
              "    </tr>\n",
              "  </tbody>\n",
              "</table>\n",
              "</div>"
            ],
            "text/plain": [
              "      x    y  target\n",
              "0  -3.5  0.5       1\n",
              "1  -2.8  0.4       1\n",
              "2  -2.0  0.0       1\n",
              "3  -3.0 -0.5       1\n",
              "4  -1.2 -0.5       1\n",
              "5   1.0  0.8       0\n",
              "6   2.5  1.2       0\n",
              "7   3.0  1.4       0\n",
              "8   3.0  1.3       0\n",
              "9   3.5 -0.5       0\n",
              "10 -2.0 -1.5       1"
            ]
          },
          "metadata": {
            "tags": []
          },
          "execution_count": 12
        }
      ]
    },
    {
      "cell_type": "code",
      "metadata": {
        "id": "RuctV1fhsYhs",
        "colab_type": "code",
        "colab": {}
      },
      "source": [
        "# mean vector for 1-class\n",
        "mv1 = [points_1.x[points_1['target'] == 1].mean(), points_1.y[points_1['target'] == 1].mean()]\n",
        "\n",
        "# mean vector for 0-class\n",
        "mv0 = [points_1.x[points_1['target'] == 0].mean(), points_1.y[points_1['target'] == 0].mean()]"
      ],
      "execution_count": 0,
      "outputs": []
    },
    {
      "cell_type": "code",
      "metadata": {
        "id": "-VtEJbt9sYhu",
        "colab_type": "code",
        "colab": {}
      },
      "source": [
        "# MSE for 1-class\n",
        "mse_x1 = sum(list(map(lambda x: (x-mv1[0])**2, points_1.x[points_1['target'] == 1]))) \\\n",
        "        /len(list(map(lambda x: (x-mv1[0])**2, points_1.x[points_1['target'] == 1])))\n",
        "mse_y1 = sum(list(map(lambda y: (y-mv1[1])**2, points_1.y[points_1['target'] == 1]))) \\\n",
        "        /len(list(map(lambda y: (y-mv1[1])**2, points_1.y[points_1['target'] == 1])))\n",
        "\n",
        "# MSE for 0-class\n",
        "mse_x0 = sum(list(map(lambda x: (x-mv0[0])**2, points_1.x[points_1['target'] == 0]))) \\\n",
        "    /len(list(map(lambda x: (x-mv0[0])**2, points_1.x[points_1['target'] == 0])))\n",
        "mse_y0 = sum(list(map(lambda y: (y-mv0[1])**2, points_1.y[points_1['target'] == 0]))) \\\n",
        "    /len(list(map(lambda y: (y-mv0[1])**2, points_1.y[points_1['target'] == 0])))"
      ],
      "execution_count": 0,
      "outputs": []
    },
    {
      "cell_type": "code",
      "metadata": {
        "id": "_gbCdouQsYhv",
        "colab_type": "code",
        "colab": {}
      },
      "source": [
        "# covariance matrix for 1-class\n",
        "mcov1 = np.matrix([\n",
        "    [mse_x1, mse_y1*mse_x1],\n",
        "    [mse_x1*mse_y1, mse_y1]\n",
        "])\n",
        "\n",
        "# covariance matrix for 0-class\n",
        "mcov0 = np.matrix([\n",
        "    [mse_x0**1, mse_y0*mse_x0],\n",
        "    [mse_x0*mse_y0, mse_y0**1]\n",
        "])"
      ],
      "execution_count": 0,
      "outputs": []
    },
    {
      "cell_type": "code",
      "metadata": {
        "scrolled": true,
        "id": "ymKaFrDIsYhx",
        "colab_type": "code",
        "colab": {
          "base_uri": "https://localhost:8080/",
          "height": 272
        },
        "outputId": "6e76bc05-9880-4f32-f9ed-850014e8094a"
      },
      "source": [
        "# evaluating p for labelled points\n",
        "for mcov, mv, b in [[mcov1, mv1, 1], [mcov0, mv0, 0]]:\n",
        "    print()\n",
        "    print('class',b)\n",
        "    for row, col in points_1[points_1['target'] == b].iterrows():\n",
        "        print(row, ':', p_eval(mcov, mv, [col.x, col.y]))"
      ],
      "execution_count": 16,
      "outputs": [
        {
          "output_type": "stream",
          "text": [
            "\n",
            "class 1\n",
            "0 : 0.012\n",
            "1 : 0.111\n",
            "2 : 0.308\n",
            "3 : 0.269\n",
            "4 : 0.04\n",
            "10 : 0.015\n",
            "\n",
            "class 0\n",
            "5 : 0.024\n",
            "6 : 0.252\n",
            "7 : 0.24\n",
            "8 : 0.266\n",
            "9 : 0.001\n"
          ],
          "name": "stdout"
        }
      ]
    },
    {
      "cell_type": "markdown",
      "metadata": {
        "id": "XZe7MLaCsYhy",
        "colab_type": "text"
      },
      "source": [
        "### Add 12th point"
      ]
    },
    {
      "cell_type": "code",
      "metadata": {
        "id": "EDnbCqkdsYhz",
        "colab_type": "code",
        "colab": {
          "base_uri": "https://localhost:8080/",
          "height": 421
        },
        "outputId": "5e6409ec-0fe2-4727-eb76-57ccf10c2e01"
      },
      "source": [
        "points_1 = points_1.append(pd.DataFrame({\n",
        "    'x': [test_point2[0]],\n",
        "    'y': [test_point2[1]],\n",
        "    'target': [0 if p_eval(mcov=mcov0, mv=mv0, v=test_point2) > p_eval(mcov=mcov1, mv=mv1, v=test_point2) else 1]\n",
        "    }, index=[max(points_1.index)+1])\n",
        ")\n",
        "points_1"
      ],
      "execution_count": 17,
      "outputs": [
        {
          "output_type": "execute_result",
          "data": {
            "text/html": [
              "<div>\n",
              "<style scoped>\n",
              "    .dataframe tbody tr th:only-of-type {\n",
              "        vertical-align: middle;\n",
              "    }\n",
              "\n",
              "    .dataframe tbody tr th {\n",
              "        vertical-align: top;\n",
              "    }\n",
              "\n",
              "    .dataframe thead th {\n",
              "        text-align: right;\n",
              "    }\n",
              "</style>\n",
              "<table border=\"1\" class=\"dataframe\">\n",
              "  <thead>\n",
              "    <tr style=\"text-align: right;\">\n",
              "      <th></th>\n",
              "      <th>x</th>\n",
              "      <th>y</th>\n",
              "      <th>target</th>\n",
              "    </tr>\n",
              "  </thead>\n",
              "  <tbody>\n",
              "    <tr>\n",
              "      <th>0</th>\n",
              "      <td>-3.5</td>\n",
              "      <td>0.5</td>\n",
              "      <td>1</td>\n",
              "    </tr>\n",
              "    <tr>\n",
              "      <th>1</th>\n",
              "      <td>-2.8</td>\n",
              "      <td>0.4</td>\n",
              "      <td>1</td>\n",
              "    </tr>\n",
              "    <tr>\n",
              "      <th>2</th>\n",
              "      <td>-2.0</td>\n",
              "      <td>0.0</td>\n",
              "      <td>1</td>\n",
              "    </tr>\n",
              "    <tr>\n",
              "      <th>3</th>\n",
              "      <td>-3.0</td>\n",
              "      <td>-0.5</td>\n",
              "      <td>1</td>\n",
              "    </tr>\n",
              "    <tr>\n",
              "      <th>4</th>\n",
              "      <td>-1.2</td>\n",
              "      <td>-0.5</td>\n",
              "      <td>1</td>\n",
              "    </tr>\n",
              "    <tr>\n",
              "      <th>5</th>\n",
              "      <td>1.0</td>\n",
              "      <td>0.8</td>\n",
              "      <td>0</td>\n",
              "    </tr>\n",
              "    <tr>\n",
              "      <th>6</th>\n",
              "      <td>2.5</td>\n",
              "      <td>1.2</td>\n",
              "      <td>0</td>\n",
              "    </tr>\n",
              "    <tr>\n",
              "      <th>7</th>\n",
              "      <td>3.0</td>\n",
              "      <td>1.4</td>\n",
              "      <td>0</td>\n",
              "    </tr>\n",
              "    <tr>\n",
              "      <th>8</th>\n",
              "      <td>3.0</td>\n",
              "      <td>1.3</td>\n",
              "      <td>0</td>\n",
              "    </tr>\n",
              "    <tr>\n",
              "      <th>9</th>\n",
              "      <td>3.5</td>\n",
              "      <td>-0.5</td>\n",
              "      <td>0</td>\n",
              "    </tr>\n",
              "    <tr>\n",
              "      <th>10</th>\n",
              "      <td>-2.0</td>\n",
              "      <td>-1.5</td>\n",
              "      <td>1</td>\n",
              "    </tr>\n",
              "    <tr>\n",
              "      <th>11</th>\n",
              "      <td>3.2</td>\n",
              "      <td>0.0</td>\n",
              "      <td>0</td>\n",
              "    </tr>\n",
              "  </tbody>\n",
              "</table>\n",
              "</div>"
            ],
            "text/plain": [
              "      x    y  target\n",
              "0  -3.5  0.5       1\n",
              "1  -2.8  0.4       1\n",
              "2  -2.0  0.0       1\n",
              "3  -3.0 -0.5       1\n",
              "4  -1.2 -0.5       1\n",
              "5   1.0  0.8       0\n",
              "6   2.5  1.2       0\n",
              "7   3.0  1.4       0\n",
              "8   3.0  1.3       0\n",
              "9   3.5 -0.5       0\n",
              "10 -2.0 -1.5       1\n",
              "11  3.2  0.0       0"
            ]
          },
          "metadata": {
            "tags": []
          },
          "execution_count": 17
        }
      ]
    },
    {
      "cell_type": "code",
      "metadata": {
        "id": "OCgDqfxrsYh1",
        "colab_type": "code",
        "colab": {}
      },
      "source": [
        "# mean vector for 1-class\n",
        "mv1 = [points_1.x[points_1['target'] == 1].mean(), points_1.y[points_1['target'] == 1].mean()]\n",
        "\n",
        "# mean vector for 0-class\n",
        "mv0 = [points_1.x[points_1['target'] == 0].mean(), points_1.y[points_1['target'] == 0].mean()]"
      ],
      "execution_count": 0,
      "outputs": []
    },
    {
      "cell_type": "code",
      "metadata": {
        "id": "uYVxSiHnsYh2",
        "colab_type": "code",
        "colab": {}
      },
      "source": [
        "# MSE for 1-class\n",
        "mse_x1 = sum(list(map(lambda x: (x-mv1[0])**2, points_1.x[points_1['target'] == 1]))) \\\n",
        "        /len(list(map(lambda x: (x-mv1[0])**2, points_1.x[points_1['target'] == 1])))\n",
        "mse_y1 = sum(list(map(lambda y: (y-mv1[1])**2, points_1.y[points_1['target'] == 1]))) \\\n",
        "        /len(list(map(lambda y: (y-mv1[1])**2, points_1.y[points_1['target'] == 1])))\n",
        "\n",
        "# MSE for 0-class\n",
        "mse_x0 = sum(list(map(lambda x: (x-mv0[0])**2, points_1.x[points_1['target'] == 0]))) \\\n",
        "    /len(list(map(lambda x: (x-mv0[0])**2, points_1.x[points_1['target'] == 0])))\n",
        "mse_y0 = sum(list(map(lambda y: (y-mv0[1])**2, points_1.y[points_1['target'] == 0]))) \\\n",
        "    /len(list(map(lambda y: (y-mv0[1])**2, points_1.y[points_1['target'] == 0])))"
      ],
      "execution_count": 0,
      "outputs": []
    },
    {
      "cell_type": "code",
      "metadata": {
        "id": "fokGKgVusYh3",
        "colab_type": "code",
        "colab": {}
      },
      "source": [
        "# covariance matrix for 1-class\n",
        "mcov1 = np.matrix([\n",
        "    [mse_x1, mse_y1*mse_x1],\n",
        "    [mse_x1*mse_y1, mse_y1]\n",
        "])\n",
        "\n",
        "# covariance matrix for 0-class\n",
        "mcov0 = np.matrix([\n",
        "    [mse_x0**1, mse_y0*mse_x0],\n",
        "    [mse_x0*mse_y0, mse_y0**1]\n",
        "])"
      ],
      "execution_count": 0,
      "outputs": []
    },
    {
      "cell_type": "code",
      "metadata": {
        "scrolled": false,
        "id": "g17lNJJrsYh5",
        "colab_type": "code",
        "colab": {
          "base_uri": "https://localhost:8080/",
          "height": 289
        },
        "outputId": "73fc4e07-4e91-4fe7-d567-58a788e3d024"
      },
      "source": [
        "# evaluating p for labelled points\n",
        "for mcov, mv, b in [[mcov1, mv1, 1], [mcov0, mv0, 0]]:\n",
        "    print()\n",
        "    print('class',b)\n",
        "    for row, col in points_1[points_1['target'] == b].iterrows():\n",
        "        print(row, \":\", p_eval(mcov, mv, [col.x, col.y]))"
      ],
      "execution_count": 21,
      "outputs": [
        {
          "output_type": "stream",
          "text": [
            "\n",
            "class 1\n",
            "0 : 0.012\n",
            "1 : 0.111\n",
            "2 : 0.308\n",
            "3 : 0.269\n",
            "4 : 0.04\n",
            "10 : 0.015\n",
            "\n",
            "class 0\n",
            "5 : 0.01\n",
            "6 : 0.191\n",
            "7 : 0.201\n",
            "8 : 0.233\n",
            "9 : 0.004\n",
            "11 : 0.072\n"
          ],
          "name": "stdout"
        }
      ]
    },
    {
      "cell_type": "code",
      "metadata": {
        "id": "WRhSmKgWsYh7",
        "colab_type": "code",
        "colab": {
          "base_uri": "https://localhost:8080/",
          "height": 585
        },
        "outputId": "28a7d022-c46d-4a3d-a394-40dbd54bfaec"
      },
      "source": [
        "# 10 points plot\n",
        "sns.kdeplot(points['x'], points['y'], cmap=\"Greens\", shade=True, shade_lowest=True, kernel='gau');\n",
        "sns.scatterplot(points['x'], points['y'], hue=points['target']);\n",
        "plt.title('10 points')\n",
        "plt.show()\n",
        "# 12 points plot\n",
        "plt.title('12 points')\n",
        "sns.kdeplot(points_1['x'], points_1['y'], cmap=\"Greens\", shade=True, shade_lowest=True, kernel='gau');\n",
        "sns.scatterplot(points_1['x'], points_1['y'], hue=points_1['target']);"
      ],
      "execution_count": 22,
      "outputs": [
        {
          "output_type": "display_data",
          "data": {
            "image/png": "[encoded data removed]",
            "text/plain": [
              "<Figure size 576x288 with 1 Axes>"
            ]
          },
          "metadata": {
            "tags": []
          }
        },
        {
          "output_type": "display_data",
          "data": {
            "image/png": "[encoded data removed]",
            "text/plain": [
              "<Figure size 576x288 with 1 Axes>"
            ]
          },
          "metadata": {
            "tags": []
          }
        }
      ]
    },
    {
      "cell_type": "markdown",
      "metadata": {
        "colab_type": "text",
        "id": "9wFAG0w2zvtZ"
      },
      "source": [
        "## Density plots"
      ]
    },
    {
      "cell_type": "code",
      "metadata": {
        "scrolled": false,
        "id": "WtSxMVrasYh-",
        "colab_type": "code",
        "colab": {
          "base_uri": "https://localhost:8080/",
          "height": 857
        },
        "outputId": "72948a7c-c2e7-4c44-b62f-03635ead1054"
      },
      "source": [
        "sns.set(style=\"white\", color_codes=True)\n",
        "sns.jointplot(x=points['x'], y=points['y'], kind='kde', color=\"skyblue\");\n",
        "sns.jointplot(x=points_1['x'], y=points_1['y'], kind='kde', color=\"skyblue\");"
      ],
      "execution_count": 23,
      "outputs": [
        {
          "output_type": "display_data",
          "data": {
            "image/png": "[encoded data removed]",
            "text/plain": [
              "<Figure size 432x432 with 3 Axes>"
            ]
          },
          "metadata": {
            "tags": []
          }
        },
        {
          "output_type": "display_data",
          "data": {
            "image/png": "[encoded data removed]",
            "text/plain": [
              "<Figure size 432x432 with 3 Axes>"
            ]
          },
          "metadata": {
            "tags": []
          }
        }
      ]
    }
  ]
}