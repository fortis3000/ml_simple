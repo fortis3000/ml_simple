{
  "nbformat": 4,
  "nbformat_minor": 0,
  "metadata": {
    "colab": {
      "name": "practical_assignment_5.ipynb",
      "version": "0.3.2",
      "provenance": []
    },
    "language_info": {
      "codemirror_mode": {
        "name": "ipython",
        "version": 3
      },
      "file_extension": ".py",
      "mimetype": "text/x-python",
      "name": "python",
      "nbconvert_exporter": "python",
      "pygments_lexer": "ipython3",
      "version": "3.7.0"
    },
    "kernelspec": {
      "display_name": "Python 3",
      "language": "python",
      "name": "python3"
    }
  },
  "cells": [
    {
      "cell_type": "markdown",
      "metadata": {
        "id": "TixsocPrOGu1",
        "colab_type": "text"
      },
      "source": [
        "# Constrained clustering. COP-KMeans algorithm."
      ]
    },
    {
      "cell_type": "code",
      "metadata": {
        "id": "5XejoO9zOGu5",
        "colab_type": "code",
        "colab": {}
      },
      "source": [
        "import numpy as np\n",
        "import pandas as pd\n",
        "import matplotlib.pyplot as plt\n",
        "from numpy.random import randint, shuffle\n",
        "from sys import exit"
      ],
      "execution_count": 0,
      "outputs": []
    },
    {
      "cell_type": "markdown",
      "metadata": {
        "id": "pOxpnHFjAtJi",
        "colab_type": "text"
      },
      "source": [
        "## Initial data"
      ]
    },
    {
      "cell_type": "code",
      "metadata": {
        "id": "yON0pZspOGvB",
        "colab_type": "code",
        "colab": {}
      },
      "source": [
        "points = pd.DataFrame({\n",
        "    'x': [3,4,5,6,7,\n",
        "    4,5,6,7,\n",
        "    5,6,7,\n",
        "    6,7,\n",
        "    7,\n",
        "    1,\n",
        "    1,2,\n",
        "    1,2,3,\n",
        "    1,2,3,4,\n",
        "    1,2,3,4,5],\n",
        "    'y': [1,1,1,1,1,\n",
        "    2,2,2,2,\n",
        "    3,3,3,\n",
        "    4,4,\n",
        "    5,\n",
        "    2,\n",
        "    3,3,\n",
        "    4,4,4,\n",
        "    5,5,5,5,\n",
        "    6,6,6,6,6]\n",
        "})"
      ],
      "execution_count": 0,
      "outputs": []
    },
    {
      "cell_type": "markdown",
      "metadata": {
        "id": "TFpE4U3vBLtJ",
        "colab_type": "text"
      },
      "source": [
        "## Must and cannot links"
      ]
    },
    {
      "cell_type": "code",
      "metadata": {
        "id": "Z2QTFuRROGu-",
        "colab_type": "code",
        "colab": {}
      },
      "source": [
        "M = [\n",
        "    [[1,4], [1,6]],\n",
        "    [[1,4], [3,6]],\n",
        "    [[3,1], [5,3]],\n",
        "    [[5,3], [7,5]]\n",
        "]\n",
        "C = [\n",
        "    [[1,4], [3,1]],\n",
        "    [[5,3], [1,6]],\n",
        "    [[7,5], [3,6]]\n",
        "]"
      ],
      "execution_count": 0,
      "outputs": []
    },
    {
      "cell_type": "markdown",
      "metadata": {
        "id": "VcYPaS_ABTp6",
        "colab_type": "text"
      },
      "source": [
        "## Must and cannot matrices\n",
        "\n",
        "#### 1-s mean bounds between points"
      ]
    },
    {
      "cell_type": "code",
      "metadata": {
        "id": "olpeRKXNOGvE",
        "colab_type": "code",
        "colab": {}
      },
      "source": [
        "M_mat = np.zeros((len(points), len(points)), dtype=np.int8)\n",
        "for pair in M:\n",
        "    i1, i2 = -1, -1\n",
        "    for row, col in points.iterrows():\n",
        "        if col.x == pair[0][0] and col.y == pair[0][1]:\n",
        "            indx0 = row\n",
        "        if col.x == pair[1][0] and col.y == pair[1][1]:\n",
        "            indx1 = row\n",
        "        if i1 > -1 and i2 > -1:\n",
        "            break\n",
        "    M_mat[indx0, indx1] = 1\n",
        "    M_mat[indx1, indx0] = 1\n",
        "\n",
        "C_mat = np.zeros((len(points), len(points)), dtype=np.int8)\n",
        "for pair in C:\n",
        "    i1, i2 = -1, -1\n",
        "    for row, col in points.iterrows():\n",
        "        if col.x == pair[0][0] and col.y == pair[0][1]:\n",
        "            indx0 = row\n",
        "        if col.x == pair[1][0] and col.y == pair[1][1]:\n",
        "            indx1 = row\n",
        "        if i1 > -1 and i2 > -1:\n",
        "            break\n",
        "    C_mat[indx0, indx1] = 1\n",
        "    C_mat[indx1, indx0] = 1"
      ],
      "execution_count": 0,
      "outputs": []
    },
    {
      "cell_type": "code",
      "metadata": {
        "id": "Lxpabu4cOGvH",
        "colab_type": "code",
        "colab": {
          "base_uri": "https://localhost:8080/",
          "height": 269
        },
        "outputId": "0adf69e6-9a2b-4f90-c238-69b789d67ff9"
      },
      "source": [
        "plt.scatter(points['x'], points['y'], c='k', marker='x');"
      ],
      "execution_count": 12,
      "outputs": [
        {
          "output_type": "display_data",
          "data": {
            "image/png": "[encoded data removed]",
            "text/plain": [
              "<Figure size 432x288 with 1 Axes>"
            ]
          },
          "metadata": {
            "tags": []
          }
        }
      ]
    },
    {
      "cell_type": "markdown",
      "metadata": {
        "id": "YAdwKHVuOGvL",
        "colab_type": "text"
      },
      "source": [
        "### K-means"
      ]
    },
    {
      "cell_type": "code",
      "metadata": {
        "id": "0zjAagvFB1IO",
        "colab_type": "code",
        "colab": {}
      },
      "source": [
        "# MULTICLASS\n",
        "\n",
        "k = 2\n",
        "minval = 0\n",
        "maxval = 7\n",
        "c = {}\n",
        "for i in range(k):\n",
        "    c.update({i: [round(randint(minval, maxval),3) for i in range(2)]})\n",
        "accuracy = 0.001\n",
        "dist_sum = 0"
      ],
      "execution_count": 0,
      "outputs": []
    },
    {
      "cell_type": "code",
      "metadata": {
        "scrolled": false,
        "id": "Wso3ZoIWOGvM",
        "colab_type": "code",
        "colab": {
          "base_uri": "https://localhost:8080/",
          "height": 2037
        },
        "outputId": "3282923c-18e1-4d50-e26e-e44e519d516c"
      },
      "source": [
        "# TODO: extract dimensios from dataset\n",
        "\n",
        "# converging\n",
        "iteration = 1\n",
        "while True:\n",
        "    print('_______________________')\n",
        "    print()\n",
        "    print(\"Center 0:\", list(map(lambda x: round(x, 3), c[0])), '\\n'\n",
        "          \"Center 1:\", list(map(lambda x: round(x, 3), c[1])))\n",
        "    labels = []\n",
        "    distances = []\n",
        "    for row, col in points.iterrows():\n",
        "        temp_label = -1\n",
        "        dist = 1000000\n",
        "        for center in c:\n",
        "            if ((c.get(center)[0] - col.x)**2 + (c.get(center)[1] - col.y)**2)**0.5 < dist:\n",
        "                temp_label = center\n",
        "                dist = ((c.get(center)[0] - col.x)**2 + (c.get(center)[1] - col.y)**2)**0.5\n",
        "                \n",
        "        labels.append(temp_label)\n",
        "        distances.append(dist)\n",
        "    points['lbl'] = labels\n",
        "    dist_sum_new = 0.5*sum(distances)\n",
        "\n",
        "    plt.figure(figsize=(5,5))\n",
        "    plt.scatter(points['x'], points['y'], c=points['lbl']);\n",
        "    plt.scatter([c.get(i)[0] for i in c], [c.get(i)[1] for i in c], c='r', marker='x', s=70);\n",
        "    plt.title(\"Iteration \" + str(iteration))\n",
        "    plt.pause(0.05);\n",
        "    \n",
        "    if abs(dist_sum - dist_sum_new)  < accuracy:\n",
        "        print(\"Distance sum = \", round(dist_sum_new,len(str(accuracy).split('.')[1])+1))\n",
        "        break\n",
        "    else:\n",
        "        for i in range(k):\n",
        "            c[i] = [sum(points.x[points.lbl == i])/len(points.x[points.lbl == i]),\n",
        "              sum(points.y[points.lbl == i])/len(points.y[points.lbl == i])]\n",
        "        iteration+=1\n",
        "        dist_sum = dist_sum_new\n",
        "        print(\"Distance sum = \", round(dist_sum_new,len(str(accuracy).split('.')[1])+1))"
      ],
      "execution_count": 16,
      "outputs": [
        {
          "output_type": "stream",
          "text": [
            "_______________________\n",
            "\n",
            "Center 0: [4, 2] \n",
            "Center 1: [4, 4]\n"
          ],
          "name": "stdout"
        },
        {
          "output_type": "display_data",
          "data": {
            "image/png": "[encoded data removed]",
            "text/plain": [
              "<Figure size 360x360 with 1 Axes>"
            ]
          },
          "metadata": {
            "tags": []
          }
        },
        {
          "output_type": "stream",
          "text": [
            "Distance sum =  32.6593\n",
            "_______________________\n",
            "\n",
            "Center 0: [4.6, 2.0] \n",
            "Center 1: [3.4, 5.0]\n"
          ],
          "name": "stdout"
        },
        {
          "output_type": "display_data",
          "data": {
            "image/png": "[encoded data removed]",
            "text/plain": [
              "<Figure size 360x360 with 1 Axes>"
            ]
          },
          "metadata": {
            "tags": []
          }
        },
        {
          "output_type": "stream",
          "text": [
            "Distance sum =  27.8134\n",
            "_______________________\n",
            "\n",
            "Center 0: [5.267, 2.133] \n",
            "Center 1: [2.733, 4.867]\n"
          ],
          "name": "stdout"
        },
        {
          "output_type": "display_data",
          "data": {
            "image/png": "[encoded data removed]",
            "text/plain": [
              "<Figure size 360x360 with 1 Axes>"
            ]
          },
          "metadata": {
            "tags": []
          }
        },
        {
          "output_type": "stream",
          "text": [
            "Distance sum =  24.7575\n",
            "_______________________\n",
            "\n",
            "Center 0: [5.667, 2.333] \n",
            "Center 1: [2.333, 4.667]\n"
          ],
          "name": "stdout"
        },
        {
          "output_type": "display_data",
          "data": {
            "image/png": "[encoded data removed]",
            "text/plain": [
              "<Figure size 360x360 with 1 Axes>"
            ]
          },
          "metadata": {
            "tags": []
          }
        },
        {
          "output_type": "stream",
          "text": [
            "Distance sum =  24.1516\n",
            "_______________________\n",
            "\n",
            "Center 0: [5.667, 2.333] \n",
            "Center 1: [2.333, 4.667]\n"
          ],
          "name": "stdout"
        },
        {
          "output_type": "display_data",
          "data": {
            "image/png": "[encoded data removed]",
            "text/plain": [
              "<Figure size 360x360 with 1 Axes>"
            ]
          },
          "metadata": {
            "tags": []
          }
        },
        {
          "output_type": "stream",
          "text": [
            "Distance sum =  24.1516\n"
          ],
          "name": "stdout"
        }
      ]
    },
    {
      "cell_type": "markdown",
      "metadata": {
        "id": "0R7jMmdROGvQ",
        "colab_type": "text"
      },
      "source": [
        "### COP K-means"
      ]
    },
    {
      "cell_type": "markdown",
      "metadata": {
        "id": "IuzJEtDXCRD6",
        "colab_type": "text"
      },
      "source": [
        "#### M and C matrices as DataFrames"
      ]
    },
    {
      "cell_type": "code",
      "metadata": {
        "id": "HfFySZ4nOGvR",
        "colab_type": "code",
        "colab": {}
      },
      "source": [
        "M_mat_df = pd.DataFrame(M_mat)\n",
        "C_mat_df = pd.DataFrame(C_mat)"
      ],
      "execution_count": 0,
      "outputs": []
    },
    {
      "cell_type": "markdown",
      "metadata": {
        "id": "CH9v-UHwCdNY",
        "colab_type": "text"
      },
      "source": [
        "### Rise exit during converging"
      ]
    },
    {
      "cell_type": "code",
      "metadata": {
        "id": "UzEzzq9EOGvT",
        "colab_type": "code",
        "colab": {}
      },
      "source": [
        "def rise_my_exc():\n",
        "    print('ERRRROR!!')\n",
        "    print('Point ', points[['x','y']].iloc[i])\n",
        "    print('Must')\n",
        "    print(points[['x','y']].iloc[M_indx])\n",
        "    print('Labels')\n",
        "    print(M_labels)\n",
        "    print('Cannot:')\n",
        "    print(points[['x','y']].iloc[C_indx])\n",
        "    print('Labels')\n",
        "    print(C_labels)\n",
        "    exit()"
      ],
      "execution_count": 0,
      "outputs": []
    },
    {
      "cell_type": "markdown",
      "metadata": {
        "id": "aFBD-W6jCv-b",
        "colab_type": "text"
      },
      "source": [
        "### Parameters COP-KMeans\n",
        "\n",
        "#### points_list shuffled"
      ]
    },
    {
      "cell_type": "code",
      "metadata": {
        "id": "6YVTJU6yCt0N",
        "colab_type": "code",
        "colab": {}
      },
      "source": [
        "k = 2\n",
        "c0 = [1,5]\n",
        "c1 = [1,3.5]\n",
        "\n",
        "dist_sum = 0\n",
        "iteration = 1\n",
        "\n",
        "points_list = list(range(len(points.x)))\n",
        "# shuffle(points_list)\n",
        "# points_list = [19, 0, 1, 2, 11, 17, 3, 27, 6, 23, 13, 20, 22, 8, 10, 29, 18, 4, 25, 9, 7, 21, 26, 14, 24, 28, 16, 12, 15, 5]\n",
        "points_list = [17, 23, 10, 6, 24, 21, 0, 5, 13, 2, 19, 29, 22, 11, 26, 15, 25, 16, 4, 3, 18, 27, 7, 8, 9, 1, 20, 28, 12, 14]\n",
        "# print(points_list)"
      ],
      "execution_count": 0,
      "outputs": []
    },
    {
      "cell_type": "code",
      "metadata": {
        "scrolled": false,
        "id": "rDbCECm2OGvW",
        "colab_type": "code",
        "colab": {
          "base_uri": "https://localhost:8080/",
          "height": 2224
        },
        "outputId": "428d2ef8-6d53-4d83-a3dd-63f15acb4f85"
      },
      "source": [
        "# converging\n",
        "\n",
        "print('Check constraints')\n",
        "print('Must')\n",
        "for pair in M:\n",
        "    print(pair)\n",
        "print('Cannot')\n",
        "for pair in C:\n",
        "    print(pair)\n",
        "while True:\n",
        "    print('_______________________')\n",
        "    print()\n",
        "    print(\"Center 0:\", list(map(lambda x: round(x, 3), c0)), '\\n'\n",
        "          \"Center 1:\", list(map(lambda x: round(x, 3), c1)))\n",
        "    \n",
        "    points['dist0'] = list(map(lambda x,y: ((c0[0]-x)**2 + (c0[1]-y)**2)**0.5, points.x, points.y))\n",
        "    points['dist1'] = list(map(lambda x,y: ((c1[0]-x)**2 + (c1[1]-y)**2)**0.5, points.x, points.y))\n",
        "    \n",
        "    labels = {}\n",
        "    points_seen = []\n",
        "\n",
        "    for i in points_list: # loop for all points\n",
        "        M_indx = [] # must points\n",
        "        C_indx = [] # cannot points\n",
        "\n",
        "        if (sum(M_mat_df[i].iloc[points_seen]) == 0) & (sum(C_mat_df[i].iloc[points_seen]) == 0) or (len(points_seen) == 0): #for first and unconstrained points\n",
        "            lbl_temp = 0 if points.iloc[i].dist0 < points.iloc[i].dist1 else 1\n",
        "        elif (sum(M_mat_df[i].iloc[points_seen]) > 0) & (sum(C_mat_df[i].iloc[points_seen]) > 0): # the point has both constraints\n",
        "            M_indx = list(M_mat_df[i].iloc[points_seen][M_mat_df[i].iloc[points_seen] > 0].keys())\n",
        "            M_labels = [labels.get(indx) for indx in M_indx]\n",
        "            C_indx = list(C_mat_df[i].iloc[points_seen][C_mat_df[i].iloc[points_seen] > 0].keys())\n",
        "            C_labels = [labels.get(indx) for indx in C_indx]\n",
        "\n",
        "            if sum([m==c for m in M_labels for c in C_labels]) > 0:\n",
        "                rise_my_exc()\n",
        "            lbl_temp = M_labels[0]\n",
        "        elif sum(M_mat_df[i].iloc[points_seen]) > 0: # must constraint only\n",
        "            M_indx = list(M_mat_df[i].iloc[points_seen][M_mat_df[i].iloc[points_seen] > 0].keys())\n",
        "            sum_lbl = [labels.get(indx) for indx in M_indx] # do points seen have different labels?\n",
        "            for lbl in sum_lbl:\n",
        "                if sum_lbl[0] != lbl:\n",
        "                    rise_my_exc()\n",
        "            lbl_temp = sum_lbl[0]\n",
        "        else: # cannot constraint only\n",
        "            C_indx = list(C_mat_df[i].iloc[points_seen][C_mat_df[i].iloc[points_seen] > 0].keys())\n",
        "            sum_lbl = [labels.get(indx) for indx in C_indx] # do points seen have different labels?\n",
        "            for lbl in sum_lbl:\n",
        "                if sum_lbl[0] != lbl:\n",
        "                    rise_my_exc()\n",
        "            lbl_temp = 1 if sum_lbl[0] == 0 else 0\n",
        "        \n",
        "        # marking and remembering the point\n",
        "        labels[i] = lbl_temp\n",
        "        points_seen.append(i)\n",
        "    \n",
        "    # sorting labels\n",
        "    new_lbls = []\n",
        "    for p in range(len(labels)):\n",
        "        new_lbls.append(labels.get(p))\n",
        "    points['lbl'] = new_lbls\n",
        "    \n",
        "    # objective function\n",
        "    dist_sum_new = 0.5 * sum([col.dist0**2 if col.dist0 < col.dist1 else col.dist1**2 for row, col in points.iterrows()])\n",
        "    \n",
        "    #plotting current clustering\n",
        "    plt.figure(figsize=(5,5))\n",
        "    plt.scatter(points['x'], points['y'], c=list(points['lbl']));\n",
        "    plt.scatter([c0[0], c1[0]], [c0[1], c1[1]], c='r', marker='x', s=70);\n",
        "    plt.title(\"Iteration \" + str(iteration))\n",
        "    plt.pause(0.05);\n",
        "    \n",
        "    if abs(dist_sum - dist_sum_new)  < 0.01:\n",
        "        print(round(dist_sum_new,3))\n",
        "        print('Converge!')\n",
        "        break\n",
        "    else:\n",
        "        c0 = [sum(points.x[points.lbl == 0])/len(points.x[points.lbl == 0]),\n",
        "              sum(points.y[points.lbl == 0])/len(points.y[points.lbl == 0])]\n",
        "        c1 = [sum(points.x[points.lbl == 1])/len(points.x[points.lbl == 1]),\n",
        "              sum(points.y[points.lbl == 1])/len(points.y[points.lbl == 1])]\n",
        "        iteration+=1\n",
        "        dist_sum = dist_sum_new\n",
        "        print(\"Distance sum = \", round(dist_sum_new,3))\n",
        "plt.show()"
      ],
      "execution_count": 18,
      "outputs": [
        {
          "output_type": "stream",
          "text": [
            "Check constraints\n",
            "Must\n",
            "[[1, 4], [1, 6]]\n",
            "[[1, 4], [3, 6]]\n",
            "[[3, 1], [5, 3]]\n",
            "[[5, 3], [7, 5]]\n",
            "Cannot\n",
            "[[1, 4], [3, 1]]\n",
            "[[5, 3], [1, 6]]\n",
            "[[7, 5], [3, 6]]\n",
            "_______________________\n",
            "\n",
            "Center 0: [1, 5] \n",
            "Center 1: [1, 3.5]\n"
          ],
          "name": "stdout"
        },
        {
          "output_type": "display_data",
          "data": {
            "image/png": "[encoded data removed]",
            "text/plain": [
              "<Figure size 360x360 with 1 Axes>"
            ]
          },
          "metadata": {
            "tags": []
          }
        },
        {
          "output_type": "stream",
          "text": [
            "Distance sum =  225.0\n",
            "_______________________\n",
            "\n",
            "Center 0: [2.6, 5.4] \n",
            "Center 1: [4.7, 2.55]\n"
          ],
          "name": "stdout"
        },
        {
          "output_type": "display_data",
          "data": {
            "image/png": "[encoded data removed]",
            "text/plain": [
              "<Figure size 360x360 with 1 Axes>"
            ]
          },
          "metadata": {
            "tags": []
          }
        },
        {
          "output_type": "stream",
          "text": [
            "Distance sum =  58.53\n",
            "_______________________\n",
            "\n",
            "Center 0: [2.429, 4.857] \n",
            "Center 1: [5.375, 2.312]\n"
          ],
          "name": "stdout"
        },
        {
          "output_type": "display_data",
          "data": {
            "image/png": "[encoded data removed]",
            "text/plain": [
              "<Figure size 360x360 with 1 Axes>"
            ]
          },
          "metadata": {
            "tags": []
          }
        },
        {
          "output_type": "stream",
          "text": [
            "Distance sum =  47.648\n",
            "_______________________\n",
            "\n",
            "Center 0: [2.333, 4.667] \n",
            "Center 1: [5.667, 2.333]\n"
          ],
          "name": "stdout"
        },
        {
          "output_type": "display_data",
          "data": {
            "image/png": "[encoded data removed]",
            "text/plain": [
              "<Figure size 360x360 with 1 Axes>"
            ]
          },
          "metadata": {
            "tags": []
          }
        },
        {
          "output_type": "stream",
          "text": [
            "Distance sum =  46.667\n",
            "_______________________\n",
            "\n",
            "Center 0: [2.333, 4.667] \n",
            "Center 1: [5.667, 2.333]\n"
          ],
          "name": "stdout"
        },
        {
          "output_type": "display_data",
          "data": {
            "image/png": "[encoded data removed]",
            "text/plain": [
              "<Figure size 360x360 with 1 Axes>"
            ]
          },
          "metadata": {
            "tags": []
          }
        },
        {
          "output_type": "stream",
          "text": [
            "46.667\n",
            "Converge!\n"
          ],
          "name": "stdout"
        }
      ]
    },
    {
      "cell_type": "markdown",
      "metadata": {
        "id": "WMEQsq9_DReT",
        "colab_type": "text"
      },
      "source": [
        "### Points in order occured"
      ]
    },
    {
      "cell_type": "code",
      "metadata": {
        "id": "apUZkFf1OGvZ",
        "colab_type": "code",
        "colab": {
          "base_uri": "https://localhost:8080/",
          "height": 34
        },
        "outputId": "f6cc872d-618a-4303-a6a5-11781c8f0716"
      },
      "source": [
        "print(points_seen)"
      ],
      "execution_count": 19,
      "outputs": [
        {
          "output_type": "stream",
          "text": [
            "[17, 23, 10, 6, 24, 21, 0, 5, 13, 2, 19, 29, 22, 11, 26, 15, 25, 16, 4, 3, 18, 27, 7, 8, 9, 1, 20, 28, 12, 14]\n"
          ],
          "name": "stdout"
        }
      ]
    }
  ]
}